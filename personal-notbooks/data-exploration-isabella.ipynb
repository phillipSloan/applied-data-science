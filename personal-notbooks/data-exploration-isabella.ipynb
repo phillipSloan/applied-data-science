{
 "cells": [
  {
   "cell_type": "markdown",
   "metadata": {
    "collapsed": true,
    "pycharm": {
     "name": "#%% md\n"
    }
   },
   "source": [
    "\n",
    "# Project 4: Mental Health and Screen Time\n",
    "Does the amount of screen time (using phones, computers, and tablets) a person spends at age 16 affect their levels of depression and anxiety at age 18? Data and data dictionary can be found on Blackboard on the projects tab.\n",
    "Dataset:   screenTime.zip\n",
    "Data Owner: Natalie Thurlby, Data Science Specialist, Jean Golding Institute\n"
   ]
  },
  {
   "cell_type": "code",
   "execution_count": 1,
   "outputs": [],
   "source": [
    "import pandas as pd\n",
    "import os"
   ],
   "metadata": {
    "collapsed": false,
    "pycharm": {
     "name": "#%%\n"
    }
   }
  },
  {
   "cell_type": "code",
   "execution_count": 2,
   "outputs": [],
   "source": [
    "data_path = '../data/'\n",
    "raw_maps = pd.read_csv(os.path.join(data_path, 'maps-synthetic-data-v1.1.csv'))\n",
    "dict_file = os.path.join(data_path, 'synthetic_data_dictionary.csv')\n",
    "raw_dictionary = pd.read_csv(dict_file)"
   ],
   "metadata": {
    "collapsed": false,
    "pycharm": {
     "name": "#%%\n"
    }
   }
  },
  {
   "cell_type": "code",
   "execution_count": 3,
   "outputs": [
    {
     "data": {
      "text/plain": "   Unnamed: 0  X       flag comp_bed_9  mat_dep mat_age  weight_16  \\\n0           1  1  synthetic        NaN      3.0      30  59.294132   \n1           2  2  synthetic        NaN      9.0      26        NaN   \n2           3  3  synthetic        NaN      3.0      24        NaN   \n3           4  4  synthetic         No      NaN      22  49.812426   \n4           5  5  synthetic         No      8.0      31  62.270030   \n\n    height_16     iq comp_noint_bed_16  ... dep_score comp_house tv_bed_16  \\\n0  181.602831  107.0               NaN  ...       0.0        Yes       Yes   \n1         NaN   85.0               NaN  ...       NaN        NaN       NaN   \n2         NaN    NaN               NaN  ...       NaN        NaN       NaN   \n3  160.224186    NaN               NaN  ...       NaN        NaN       NaN   \n4  191.703227  132.0               Yes  ...       NaN        NaN       NaN   \n\n  creat_14 comp_games      fam_tv_eve      fam_tv_aft      fam_tv_mor     sex  \\\n0    often         No  Yes, Some Days           Other  Yes, Every Day  Female   \n1      NaN        NaN             NaN             NaN             NaN  Female   \n2      NaN        NaN  Yes, Some Days  Yes, Every Day           Other    Male   \n3      NaN         No             NaN             NaN             NaN    Male   \n4    often         No  Yes, Some Days  Yes, Every Day  Yes, Every Day  Female   \n\n  birth_order  \n0           A  \n1           B  \n2           A  \n3           A  \n4           A  \n\n[5 rows x 85 columns]",
      "text/html": "<div>\n<style scoped>\n    .dataframe tbody tr th:only-of-type {\n        vertical-align: middle;\n    }\n\n    .dataframe tbody tr th {\n        vertical-align: top;\n    }\n\n    .dataframe thead th {\n        text-align: right;\n    }\n</style>\n<table border=\"1\" class=\"dataframe\">\n  <thead>\n    <tr style=\"text-align: right;\">\n      <th></th>\n      <th>Unnamed: 0</th>\n      <th>X</th>\n      <th>flag</th>\n      <th>comp_bed_9</th>\n      <th>mat_dep</th>\n      <th>mat_age</th>\n      <th>weight_16</th>\n      <th>height_16</th>\n      <th>iq</th>\n      <th>comp_noint_bed_16</th>\n      <th>...</th>\n      <th>dep_score</th>\n      <th>comp_house</th>\n      <th>tv_bed_16</th>\n      <th>creat_14</th>\n      <th>comp_games</th>\n      <th>fam_tv_eve</th>\n      <th>fam_tv_aft</th>\n      <th>fam_tv_mor</th>\n      <th>sex</th>\n      <th>birth_order</th>\n    </tr>\n  </thead>\n  <tbody>\n    <tr>\n      <th>0</th>\n      <td>1</td>\n      <td>1</td>\n      <td>synthetic</td>\n      <td>NaN</td>\n      <td>3.0</td>\n      <td>30</td>\n      <td>59.294132</td>\n      <td>181.602831</td>\n      <td>107.0</td>\n      <td>NaN</td>\n      <td>...</td>\n      <td>0.0</td>\n      <td>Yes</td>\n      <td>Yes</td>\n      <td>often</td>\n      <td>No</td>\n      <td>Yes, Some Days</td>\n      <td>Other</td>\n      <td>Yes, Every Day</td>\n      <td>Female</td>\n      <td>A</td>\n    </tr>\n    <tr>\n      <th>1</th>\n      <td>2</td>\n      <td>2</td>\n      <td>synthetic</td>\n      <td>NaN</td>\n      <td>9.0</td>\n      <td>26</td>\n      <td>NaN</td>\n      <td>NaN</td>\n      <td>85.0</td>\n      <td>NaN</td>\n      <td>...</td>\n      <td>NaN</td>\n      <td>NaN</td>\n      <td>NaN</td>\n      <td>NaN</td>\n      <td>NaN</td>\n      <td>NaN</td>\n      <td>NaN</td>\n      <td>NaN</td>\n      <td>Female</td>\n      <td>B</td>\n    </tr>\n    <tr>\n      <th>2</th>\n      <td>3</td>\n      <td>3</td>\n      <td>synthetic</td>\n      <td>NaN</td>\n      <td>3.0</td>\n      <td>24</td>\n      <td>NaN</td>\n      <td>NaN</td>\n      <td>NaN</td>\n      <td>NaN</td>\n      <td>...</td>\n      <td>NaN</td>\n      <td>NaN</td>\n      <td>NaN</td>\n      <td>NaN</td>\n      <td>NaN</td>\n      <td>Yes, Some Days</td>\n      <td>Yes, Every Day</td>\n      <td>Other</td>\n      <td>Male</td>\n      <td>A</td>\n    </tr>\n    <tr>\n      <th>3</th>\n      <td>4</td>\n      <td>4</td>\n      <td>synthetic</td>\n      <td>No</td>\n      <td>NaN</td>\n      <td>22</td>\n      <td>49.812426</td>\n      <td>160.224186</td>\n      <td>NaN</td>\n      <td>NaN</td>\n      <td>...</td>\n      <td>NaN</td>\n      <td>NaN</td>\n      <td>NaN</td>\n      <td>NaN</td>\n      <td>No</td>\n      <td>NaN</td>\n      <td>NaN</td>\n      <td>NaN</td>\n      <td>Male</td>\n      <td>A</td>\n    </tr>\n    <tr>\n      <th>4</th>\n      <td>5</td>\n      <td>5</td>\n      <td>synthetic</td>\n      <td>No</td>\n      <td>8.0</td>\n      <td>31</td>\n      <td>62.270030</td>\n      <td>191.703227</td>\n      <td>132.0</td>\n      <td>Yes</td>\n      <td>...</td>\n      <td>NaN</td>\n      <td>NaN</td>\n      <td>NaN</td>\n      <td>often</td>\n      <td>No</td>\n      <td>Yes, Some Days</td>\n      <td>Yes, Every Day</td>\n      <td>Yes, Every Day</td>\n      <td>Female</td>\n      <td>A</td>\n    </tr>\n  </tbody>\n</table>\n<p>5 rows × 85 columns</p>\n</div>"
     },
     "execution_count": 3,
     "metadata": {},
     "output_type": "execute_result"
    }
   ],
   "source": [
    "raw_maps.head()"
   ],
   "metadata": {
    "collapsed": false,
    "pycharm": {
     "name": "#%%\n"
    }
   }
  },
  {
   "cell_type": "code",
   "execution_count": 4,
   "outputs": [
    {
     "data": {
      "text/plain": "Index(['Unnamed: 0', 'X', 'flag', 'comp_bed_9', 'mat_dep', 'mat_age',\n       'weight_16', 'height_16', 'iq', 'comp_noint_bed_16', 'comp_int_bed_16',\n       'talk_phon_wend', 'text_wend', 'talk_mob_wend', 'comp_wend',\n       'musi_wend', 'read_wend', 'work_wend', 'alon_wend', 'draw_wend',\n       'play_wend', 'tv_wend', 'out_win_wend', 'out_sum_wend', 'tran_wend',\n       'talk_phon_week', 'text_week', 'talk_mob_week', 'comp_week',\n       'musi_week', 'read_week', 'work_week', 'alon_week', 'draw_week',\n       'play_week', 'tv_week', 'out_win_week', 'out_sum_week', 'tran_week',\n       'pat_pres_10', 'pat_pres_8', 'pat_pres', 'num_home', 'mat_anx_1',\n       'mat_anx_18m', 'mat_anx_8m', 'agg_score', 'emot_cruel', 'phys_cruel',\n       'mat_anx_0m', 'pat_ses', 'mat_ses', 'pat_edu', 'mat_edu', 'parity',\n       'dep_band_15', 'dep_band_13', 'dep_band_10', 'dep_band_07',\n       'anx_band_15', 'anx_band_13', 'anx_band_10', 'anx_band_07', 'exercise',\n       'child_bull', 'phone_14_wend', 'phone_14_week', 'musi_13', 'tv_bed_9',\n       'own_mob', 'has_dep_diag', 'secd_diag', 'prim_diag', 'panic_score',\n       'dep_thoughts', 'dep_score', 'comp_house', 'tv_bed_16', 'creat_14',\n       'comp_games', 'fam_tv_eve', 'fam_tv_aft', 'fam_tv_mor', 'sex',\n       'birth_order'],\n      dtype='object')"
     },
     "execution_count": 4,
     "metadata": {},
     "output_type": "execute_result"
    }
   ],
   "source": [
    "raw_maps.columns"
   ],
   "metadata": {
    "collapsed": false,
    "pycharm": {
     "name": "#%%\n"
    }
   }
  },
  {
   "cell_type": "code",
   "execution_count": 5,
   "outputs": [
    {
     "name": "stdout",
     "output_type": "stream",
     "text": [
      "<class 'pandas.core.frame.DataFrame'>\n",
      "RangeIndex: 13734 entries, 0 to 13733\n",
      "Data columns (total 85 columns):\n",
      " #   Column             Non-Null Count  Dtype  \n",
      "---  ------             --------------  -----  \n",
      " 0   Unnamed: 0         13734 non-null  int64  \n",
      " 1   X                  13734 non-null  int64  \n",
      " 2   flag               13734 non-null  object \n",
      " 3   comp_bed_9         8174 non-null   object \n",
      " 4   mat_dep            11145 non-null  float64\n",
      " 5   mat_age            13326 non-null  object \n",
      " 6   weight_16          5351 non-null   float64\n",
      " 7   height_16          5364 non-null   float64\n",
      " 8   iq                 7288 non-null   float64\n",
      " 9   comp_noint_bed_16  471 non-null    object \n",
      " 10  comp_int_bed_16    2570 non-null   object \n",
      " 11  talk_phon_wend     4850 non-null   object \n",
      " 12  text_wend          4841 non-null   object \n",
      " 13  talk_mob_wend      4834 non-null   object \n",
      " 14  comp_wend          4839 non-null   object \n",
      " 15  musi_wend          4831 non-null   object \n",
      " 16  read_wend          4834 non-null   object \n",
      " 17  work_wend          4833 non-null   object \n",
      " 18  alon_wend          4850 non-null   object \n",
      " 19  draw_wend          4842 non-null   object \n",
      " 20  play_wend          4850 non-null   object \n",
      " 21  tv_wend            4853 non-null   object \n",
      " 22  out_win_wend       4849 non-null   object \n",
      " 23  out_sum_wend       4822 non-null   object \n",
      " 24  tran_wend          4861 non-null   object \n",
      " 25  talk_phon_week     4999 non-null   object \n",
      " 26  text_week          5004 non-null   object \n",
      " 27  talk_mob_week      5016 non-null   object \n",
      " 28  comp_week          5011 non-null   object \n",
      " 29  musi_week          5003 non-null   object \n",
      " 30  read_week          4993 non-null   object \n",
      " 31  work_week          5012 non-null   object \n",
      " 32  alon_week          5008 non-null   object \n",
      " 33  draw_week          5012 non-null   object \n",
      " 34  play_week          5015 non-null   object \n",
      " 35  tv_week            5020 non-null   object \n",
      " 36  out_win_week       5007 non-null   object \n",
      " 37  out_sum_week       5014 non-null   object \n",
      " 38  tran_week          5024 non-null   object \n",
      " 39  pat_pres_10        8057 non-null   object \n",
      " 40  pat_pres_8         7729 non-null   object \n",
      " 41  pat_pres           9579 non-null   object \n",
      " 42  num_home           9583 non-null   object \n",
      " 43  mat_anx_1          9700 non-null   object \n",
      " 44  mat_anx_18m        9884 non-null   object \n",
      " 45  mat_anx_8m         10488 non-null  object \n",
      " 46  agg_score          10714 non-null  float64\n",
      " 47  emot_cruel         11301 non-null  object \n",
      " 48  phys_cruel         11301 non-null  object \n",
      " 49  mat_anx_0m         11265 non-null  object \n",
      " 50  pat_ses            11021 non-null  object \n",
      " 51  mat_ses            10110 non-null  object \n",
      " 52  pat_edu            10750 non-null  object \n",
      " 53  mat_edu            12375 non-null  object \n",
      " 54  parity             12544 non-null  float64\n",
      " 55  dep_band_15        5299 non-null   object \n",
      " 56  dep_band_13        7003 non-null   object \n",
      " 57  dep_band_10        7679 non-null   object \n",
      " 58  dep_band_07        8089 non-null   object \n",
      " 59  anx_band_15        5303 non-null   object \n",
      " 60  anx_band_13        7158 non-null   object \n",
      " 61  anx_band_10        7852 non-null   object \n",
      " 62  anx_band_07        8280 non-null   object \n",
      " 63  exercise           4971 non-null   object \n",
      " 64  child_bull         4989 non-null   object \n",
      " 65  phone_14_wend      5962 non-null   object \n",
      " 66  phone_14_week      6131 non-null   object \n",
      " 67  musi_13            6880 non-null   object \n",
      " 68  tv_bed_9           8348 non-null   object \n",
      " 69  own_mob            4386 non-null   object \n",
      " 70  has_dep_diag       4513 non-null   object \n",
      " 71  secd_diag          4513 non-null   float64\n",
      " 72  prim_diag          4513 non-null   float64\n",
      " 73  panic_score        4513 non-null   float64\n",
      " 74  dep_thoughts       1805 non-null   float64\n",
      " 75  dep_score          4513 non-null   float64\n",
      " 76  comp_house         713 non-null    object \n",
      " 77  tv_bed_16          3877 non-null   object \n",
      " 78  creat_14           7093 non-null   object \n",
      " 79  comp_games         9660 non-null   object \n",
      " 80  fam_tv_eve         11174 non-null  object \n",
      " 81  fam_tv_aft         11038 non-null  object \n",
      " 82  fam_tv_mor         11096 non-null  object \n",
      " 83  sex                13734 non-null  object \n",
      " 84  birth_order        13734 non-null  object \n",
      "dtypes: float64(11), int64(2), object(72)\n",
      "memory usage: 8.9+ MB\n"
     ]
    }
   ],
   "source": [
    "raw_maps.info()"
   ],
   "metadata": {
    "collapsed": false,
    "pycharm": {
     "name": "#%%\n"
    }
   }
  },
  {
   "cell_type": "code",
   "execution_count": 6,
   "outputs": [
    {
     "data": {
      "text/plain": "         Unnamed: 0             X       mat_dep    weight_16    height_16  \\\ncount  13734.000000  13734.000000  11145.000000  5351.000000  5364.000000   \nmean    6867.500000   6867.500000      5.415882    61.720509   169.286372   \nstd     3964.808633   3964.808633      4.611888    12.003745     8.533072   \nmin        1.000000      1.000000      0.000000    32.300000   139.512169   \n25%     3434.250000   3434.250000      2.000000    53.785885   163.317270   \n50%     6867.500000   6867.500000      4.000000    59.890308   168.875015   \n75%    10300.750000  10300.750000      8.000000    67.309938   175.171323   \nmax    13734.000000  13734.000000     28.000000   126.029499   201.519622   \n\n                iq     agg_score        parity    secd_diag    prim_diag  \\\ncount  7288.000000  10714.000000  12544.000000  4513.000000  4513.000000   \nmean    103.672201      9.947639      0.843033     0.417682     1.301573   \nstd      16.682292      1.996768      1.009716     1.514679     3.200335   \nmin      45.000000      3.000000      0.000000     0.000000     0.000000   \n25%      92.000000      9.000000      0.000000     0.000000     0.000000   \n50%     103.000000     10.000000      1.000000     0.000000     0.000000   \n75%     115.000000     11.000000      1.000000     0.000000     0.000000   \nmax     152.000000     15.000000     22.000000     9.000000    12.000000   \n\n       panic_score  dep_thoughts    dep_score  \ncount  4513.000000   1805.000000  4513.000000  \nmean      0.043209      1.932410     0.437625  \nstd       0.320880      1.327217     0.928123  \nmin       0.000000      0.000000     0.000000  \n25%       0.000000      1.000000     0.000000  \n50%       0.000000      1.000000     0.000000  \n75%       0.000000      3.000000     0.000000  \nmax       4.000000      5.000000     4.000000  ",
      "text/html": "<div>\n<style scoped>\n    .dataframe tbody tr th:only-of-type {\n        vertical-align: middle;\n    }\n\n    .dataframe tbody tr th {\n        vertical-align: top;\n    }\n\n    .dataframe thead th {\n        text-align: right;\n    }\n</style>\n<table border=\"1\" class=\"dataframe\">\n  <thead>\n    <tr style=\"text-align: right;\">\n      <th></th>\n      <th>Unnamed: 0</th>\n      <th>X</th>\n      <th>mat_dep</th>\n      <th>weight_16</th>\n      <th>height_16</th>\n      <th>iq</th>\n      <th>agg_score</th>\n      <th>parity</th>\n      <th>secd_diag</th>\n      <th>prim_diag</th>\n      <th>panic_score</th>\n      <th>dep_thoughts</th>\n      <th>dep_score</th>\n    </tr>\n  </thead>\n  <tbody>\n    <tr>\n      <th>count</th>\n      <td>13734.000000</td>\n      <td>13734.000000</td>\n      <td>11145.000000</td>\n      <td>5351.000000</td>\n      <td>5364.000000</td>\n      <td>7288.000000</td>\n      <td>10714.000000</td>\n      <td>12544.000000</td>\n      <td>4513.000000</td>\n      <td>4513.000000</td>\n      <td>4513.000000</td>\n      <td>1805.000000</td>\n      <td>4513.000000</td>\n    </tr>\n    <tr>\n      <th>mean</th>\n      <td>6867.500000</td>\n      <td>6867.500000</td>\n      <td>5.415882</td>\n      <td>61.720509</td>\n      <td>169.286372</td>\n      <td>103.672201</td>\n      <td>9.947639</td>\n      <td>0.843033</td>\n      <td>0.417682</td>\n      <td>1.301573</td>\n      <td>0.043209</td>\n      <td>1.932410</td>\n      <td>0.437625</td>\n    </tr>\n    <tr>\n      <th>std</th>\n      <td>3964.808633</td>\n      <td>3964.808633</td>\n      <td>4.611888</td>\n      <td>12.003745</td>\n      <td>8.533072</td>\n      <td>16.682292</td>\n      <td>1.996768</td>\n      <td>1.009716</td>\n      <td>1.514679</td>\n      <td>3.200335</td>\n      <td>0.320880</td>\n      <td>1.327217</td>\n      <td>0.928123</td>\n    </tr>\n    <tr>\n      <th>min</th>\n      <td>1.000000</td>\n      <td>1.000000</td>\n      <td>0.000000</td>\n      <td>32.300000</td>\n      <td>139.512169</td>\n      <td>45.000000</td>\n      <td>3.000000</td>\n      <td>0.000000</td>\n      <td>0.000000</td>\n      <td>0.000000</td>\n      <td>0.000000</td>\n      <td>0.000000</td>\n      <td>0.000000</td>\n    </tr>\n    <tr>\n      <th>25%</th>\n      <td>3434.250000</td>\n      <td>3434.250000</td>\n      <td>2.000000</td>\n      <td>53.785885</td>\n      <td>163.317270</td>\n      <td>92.000000</td>\n      <td>9.000000</td>\n      <td>0.000000</td>\n      <td>0.000000</td>\n      <td>0.000000</td>\n      <td>0.000000</td>\n      <td>1.000000</td>\n      <td>0.000000</td>\n    </tr>\n    <tr>\n      <th>50%</th>\n      <td>6867.500000</td>\n      <td>6867.500000</td>\n      <td>4.000000</td>\n      <td>59.890308</td>\n      <td>168.875015</td>\n      <td>103.000000</td>\n      <td>10.000000</td>\n      <td>1.000000</td>\n      <td>0.000000</td>\n      <td>0.000000</td>\n      <td>0.000000</td>\n      <td>1.000000</td>\n      <td>0.000000</td>\n    </tr>\n    <tr>\n      <th>75%</th>\n      <td>10300.750000</td>\n      <td>10300.750000</td>\n      <td>8.000000</td>\n      <td>67.309938</td>\n      <td>175.171323</td>\n      <td>115.000000</td>\n      <td>11.000000</td>\n      <td>1.000000</td>\n      <td>0.000000</td>\n      <td>0.000000</td>\n      <td>0.000000</td>\n      <td>3.000000</td>\n      <td>0.000000</td>\n    </tr>\n    <tr>\n      <th>max</th>\n      <td>13734.000000</td>\n      <td>13734.000000</td>\n      <td>28.000000</td>\n      <td>126.029499</td>\n      <td>201.519622</td>\n      <td>152.000000</td>\n      <td>15.000000</td>\n      <td>22.000000</td>\n      <td>9.000000</td>\n      <td>12.000000</td>\n      <td>4.000000</td>\n      <td>5.000000</td>\n      <td>4.000000</td>\n    </tr>\n  </tbody>\n</table>\n</div>"
     },
     "execution_count": 6,
     "metadata": {},
     "output_type": "execute_result"
    }
   ],
   "source": [
    "raw_maps.describe()"
   ],
   "metadata": {
    "collapsed": false,
    "pycharm": {
     "name": "#%%\n"
    }
   }
  },
  {
   "cell_type": "code",
   "execution_count": 7,
   "outputs": [
    {
     "data": {
      "text/plain": "array(['30', '26', '24', '22', '31', '36', '27', '21', '32', '< 16', '33',\n       '25', '16', '37', '34', '35', '18', '29', '23', '20', '17', '28',\n       '38', nan, '40', '19', '39', '41', '>43', '42', '43'], dtype=object)"
     },
     "execution_count": 7,
     "metadata": {},
     "output_type": "execute_result"
    }
   ],
   "source": [
    "raw_maps.mat_age.unique()"
   ],
   "metadata": {
    "collapsed": false,
    "pycharm": {
     "name": "#%%\n"
    }
   }
  },
  {
   "cell_type": "code",
   "execution_count": 8,
   "outputs": [
    {
     "data": {
      "text/plain": "29      1145\n28      1130\n30      1036\n27      1006\n26      1002\n25       934\n31       894\n32       750\n24       733\n23       642\n33       582\n34       495\n22       440\n35       381\n20       354\n21       315\n36       290\n19       251\n37       222\n18       160\n38       129\n17       114\n39        79\n40        67\n41        56\n16        54\n42        28\n43        18\n>43       13\n< 16       6\nName: mat_age, dtype: int64"
     },
     "execution_count": 8,
     "metadata": {},
     "output_type": "execute_result"
    }
   ],
   "source": [
    "raw_maps.mat_age.value_counts()"
   ],
   "metadata": {
    "collapsed": false,
    "pycharm": {
     "name": "#%%\n"
    }
   }
  },
  {
   "cell_type": "code",
   "source": [
    "raw_maps.iq.unique()"
   ],
   "metadata": {
    "collapsed": false,
    "pycharm": {
     "name": "#%%\n"
    }
   },
   "execution_count": 9,
   "outputs": [
    {
     "data": {
      "text/plain": "array([107.,  85.,  nan, 132., 106.,  98., 108., 113., 104., 119., 143.,\n        87., 110.,  81.,  71., 148., 111.,  95.,  76., 105., 135., 131.,\n       102., 112.,  97., 137., 122.,  84., 117.,  74.,  53., 120.,  92.,\n       118., 114., 115., 139., 127., 125., 134.,  83.,  80.,  79.,  89.,\n       121., 124.,  88., 103., 133., 100.,  93., 101.,  78., 116.,  86.,\n       128., 109.,  77.,  99.,  90.,  64.,  82.,  68.,  70.,  67., 126.,\n        69.,  75., 123., 149.,  94.,  91.,  72.,  96.,  51.,  73.,  57.,\n       130.,  61., 140., 129.,  66.,  54.,  63., 136., 138.,  50., 147.,\n       141.,  65.,  49., 142., 150., 146., 144.,  55.,  62.,  48.,  58.,\n        59., 152.,  56.,  45., 145.])"
     },
     "execution_count": 9,
     "metadata": {},
     "output_type": "execute_result"
    }
   ]
  },
  {
   "cell_type": "code",
   "execution_count": 10,
   "outputs": [
    {
     "data": {
      "text/plain": "array(['No', nan, 'Yes'], dtype=object)"
     },
     "execution_count": 10,
     "metadata": {},
     "output_type": "execute_result"
    }
   ],
   "source": [
    "raw_maps.child_bull.unique()"
   ],
   "metadata": {
    "collapsed": false,
    "pycharm": {
     "name": "#%%\n"
    }
   }
  },
  {
   "cell_type": "code",
   "execution_count": 11,
   "outputs": [
    {
     "data": {
      "text/plain": "No     4076\nYes     913\nName: child_bull, dtype: int64"
     },
     "execution_count": 11,
     "metadata": {},
     "output_type": "execute_result"
    }
   ],
   "source": [
    "raw_maps.child_bull.value_counts()"
   ],
   "metadata": {
    "collapsed": false,
    "pycharm": {
     "name": "#%%\n"
    }
   }
  },
  {
   "cell_type": "code",
   "execution_count": 12,
   "outputs": [
    {
     "data": {
      "text/plain": "Female    7102\nMale      6632\nName: sex, dtype: int64"
     },
     "execution_count": 12,
     "metadata": {},
     "output_type": "execute_result"
    }
   ],
   "source": [
    "raw_maps.sex.value_counts()"
   ],
   "metadata": {
    "collapsed": false,
    "pycharm": {
     "name": "#%%\n"
    }
   }
  },
  {
   "cell_type": "code",
   "execution_count": 13,
   "outputs": [
    {
     "data": {
      "text/plain": "array([ 0., nan,  5., 10.,  9.,  1., 12., 11.,  8.,  2.,  6.,  7.,  4.])"
     },
     "execution_count": 13,
     "metadata": {},
     "output_type": "execute_result"
    }
   ],
   "source": [
    "raw_maps.prim_diag.unique()"
   ],
   "metadata": {
    "collapsed": false,
    "pycharm": {
     "name": "#%%\n"
    }
   }
  },
  {
   "cell_type": "code",
   "execution_count": 14,
   "outputs": [
    {
     "data": {
      "text/plain": "0.0     3573\n1.0      240\n11.0     181\n10.0     134\n5.0      101\n2.0       99\n12.0      74\n6.0       66\n8.0       22\n4.0       11\n9.0        6\n7.0        6\nName: prim_diag, dtype: int64"
     },
     "execution_count": 14,
     "metadata": {},
     "output_type": "execute_result"
    }
   ],
   "source": [
    "raw_maps.prim_diag.value_counts()"
   ],
   "metadata": {
    "collapsed": false,
    "pycharm": {
     "name": "#%%\n"
    }
   }
  },
  {
   "cell_type": "code",
   "execution_count": 15,
   "outputs": [
    {
     "data": {
      "text/plain": "array([59.29413192,         nan, 49.81242632, ..., 59.28760905,\n       58.07583154, 70.7329131 ])"
     },
     "execution_count": 15,
     "metadata": {},
     "output_type": "execute_result"
    }
   ],
   "source": [
    "raw_maps.weight_16.unique()"
   ],
   "metadata": {
    "collapsed": false,
    "pycharm": {
     "name": "#%%\n"
    }
   }
  },
  {
   "cell_type": "code",
   "execution_count": 16,
   "outputs": [
    {
     "data": {
      "text/plain": "32.300000     2\n126.029499    2\n59.294132     1\n67.644590     1\n57.330336     1\n             ..\n56.391429     1\n82.107926     1\n62.901127     1\n60.796512     1\n70.732913     1\nName: weight_16, Length: 5349, dtype: int64"
     },
     "execution_count": 16,
     "metadata": {},
     "output_type": "execute_result"
    }
   ],
   "source": [
    "raw_maps.weight_16.value_counts()"
   ],
   "metadata": {
    "collapsed": false,
    "pycharm": {
     "name": "#%%\n"
    }
   }
  },
  {
   "cell_type": "code",
   "execution_count": 17,
   "outputs": [
    {
     "data": {
      "text/plain": "       Unnamed: 0    X  flag  comp_bed_9  mat_dep  mat_age  weight_16  \\\n0.0           NaN  NaN   NaN         NaN   1396.0      NaN        NaN   \n1             1.0  1.0   NaN         NaN   1136.0      NaN        NaN   \n2             1.0  1.0   NaN         NaN   1025.0      NaN        NaN   \n3             1.0  1.0   NaN         NaN   1094.0      NaN        NaN   \n4             1.0  1.0   NaN         NaN    958.0      NaN        NaN   \n...           ...  ...   ...         ...      ...      ...        ...   \nv             NaN  NaN   NaN         NaN      NaN      NaN        NaN   \n~0.5%         NaN  NaN   NaN         NaN      NaN      NaN        NaN   \n~15%          NaN  NaN   NaN         NaN      NaN      NaN        NaN   \n~3%           NaN  NaN   NaN         NaN      NaN      NaN        NaN   \n~50%          NaN  NaN   NaN         NaN      NaN      NaN        NaN   \n\n       height_16  iq  comp_noint_bed_16  ...  dep_score  comp_house  \\\n0.0          NaN NaN                NaN  ...     3463.0         NaN   \n1            NaN NaN                NaN  ...      488.0         NaN   \n2            NaN NaN                NaN  ...      299.0         NaN   \n3            NaN NaN                NaN  ...      163.0         NaN   \n4            NaN NaN                NaN  ...      100.0         NaN   \n...          ...  ..                ...  ...        ...         ...   \nv            NaN NaN                NaN  ...        NaN         NaN   \n~0.5%        NaN NaN                NaN  ...        NaN         NaN   \n~15%         NaN NaN                NaN  ...        NaN         NaN   \n~3%          NaN NaN                NaN  ...        NaN         NaN   \n~50%         NaN NaN                NaN  ...        NaN         NaN   \n\n       tv_bed_16  creat_14  comp_games  fam_tv_eve  fam_tv_aft  fam_tv_mor  \\\n0.0          NaN       NaN         NaN         NaN         NaN         NaN   \n1            NaN       NaN         NaN         NaN         NaN         NaN   \n2            NaN       NaN         NaN         NaN         NaN         NaN   \n3            NaN       NaN         NaN         NaN         NaN         NaN   \n4            NaN       NaN         NaN         NaN         NaN         NaN   \n...          ...       ...         ...         ...         ...         ...   \nv            NaN       NaN         NaN         NaN         NaN         NaN   \n~0.5%        NaN       NaN         NaN         NaN         NaN         NaN   \n~15%         NaN       NaN         NaN         NaN         NaN         NaN   \n~3%          NaN       NaN         NaN         NaN         NaN         NaN   \n~50%         NaN       NaN         NaN         NaN         NaN         NaN   \n\n       sex  birth_order  \n0.0    NaN          NaN  \n1      NaN          NaN  \n2      NaN          NaN  \n3      NaN          NaN  \n4      NaN          NaN  \n...    ...          ...  \nv      NaN          NaN  \n~0.5%  NaN          NaN  \n~15%   NaN          NaN  \n~3%    NaN          NaN  \n~50%   NaN          NaN  \n\n[24533 rows x 85 columns]",
      "text/html": "<div>\n<style scoped>\n    .dataframe tbody tr th:only-of-type {\n        vertical-align: middle;\n    }\n\n    .dataframe tbody tr th {\n        vertical-align: top;\n    }\n\n    .dataframe thead th {\n        text-align: right;\n    }\n</style>\n<table border=\"1\" class=\"dataframe\">\n  <thead>\n    <tr style=\"text-align: right;\">\n      <th></th>\n      <th>Unnamed: 0</th>\n      <th>X</th>\n      <th>flag</th>\n      <th>comp_bed_9</th>\n      <th>mat_dep</th>\n      <th>mat_age</th>\n      <th>weight_16</th>\n      <th>height_16</th>\n      <th>iq</th>\n      <th>comp_noint_bed_16</th>\n      <th>...</th>\n      <th>dep_score</th>\n      <th>comp_house</th>\n      <th>tv_bed_16</th>\n      <th>creat_14</th>\n      <th>comp_games</th>\n      <th>fam_tv_eve</th>\n      <th>fam_tv_aft</th>\n      <th>fam_tv_mor</th>\n      <th>sex</th>\n      <th>birth_order</th>\n    </tr>\n  </thead>\n  <tbody>\n    <tr>\n      <th>0.0</th>\n      <td>NaN</td>\n      <td>NaN</td>\n      <td>NaN</td>\n      <td>NaN</td>\n      <td>1396.0</td>\n      <td>NaN</td>\n      <td>NaN</td>\n      <td>NaN</td>\n      <td>NaN</td>\n      <td>NaN</td>\n      <td>...</td>\n      <td>3463.0</td>\n      <td>NaN</td>\n      <td>NaN</td>\n      <td>NaN</td>\n      <td>NaN</td>\n      <td>NaN</td>\n      <td>NaN</td>\n      <td>NaN</td>\n      <td>NaN</td>\n      <td>NaN</td>\n    </tr>\n    <tr>\n      <th>1</th>\n      <td>1.0</td>\n      <td>1.0</td>\n      <td>NaN</td>\n      <td>NaN</td>\n      <td>1136.0</td>\n      <td>NaN</td>\n      <td>NaN</td>\n      <td>NaN</td>\n      <td>NaN</td>\n      <td>NaN</td>\n      <td>...</td>\n      <td>488.0</td>\n      <td>NaN</td>\n      <td>NaN</td>\n      <td>NaN</td>\n      <td>NaN</td>\n      <td>NaN</td>\n      <td>NaN</td>\n      <td>NaN</td>\n      <td>NaN</td>\n      <td>NaN</td>\n    </tr>\n    <tr>\n      <th>2</th>\n      <td>1.0</td>\n      <td>1.0</td>\n      <td>NaN</td>\n      <td>NaN</td>\n      <td>1025.0</td>\n      <td>NaN</td>\n      <td>NaN</td>\n      <td>NaN</td>\n      <td>NaN</td>\n      <td>NaN</td>\n      <td>...</td>\n      <td>299.0</td>\n      <td>NaN</td>\n      <td>NaN</td>\n      <td>NaN</td>\n      <td>NaN</td>\n      <td>NaN</td>\n      <td>NaN</td>\n      <td>NaN</td>\n      <td>NaN</td>\n      <td>NaN</td>\n    </tr>\n    <tr>\n      <th>3</th>\n      <td>1.0</td>\n      <td>1.0</td>\n      <td>NaN</td>\n      <td>NaN</td>\n      <td>1094.0</td>\n      <td>NaN</td>\n      <td>NaN</td>\n      <td>NaN</td>\n      <td>NaN</td>\n      <td>NaN</td>\n      <td>...</td>\n      <td>163.0</td>\n      <td>NaN</td>\n      <td>NaN</td>\n      <td>NaN</td>\n      <td>NaN</td>\n      <td>NaN</td>\n      <td>NaN</td>\n      <td>NaN</td>\n      <td>NaN</td>\n      <td>NaN</td>\n    </tr>\n    <tr>\n      <th>4</th>\n      <td>1.0</td>\n      <td>1.0</td>\n      <td>NaN</td>\n      <td>NaN</td>\n      <td>958.0</td>\n      <td>NaN</td>\n      <td>NaN</td>\n      <td>NaN</td>\n      <td>NaN</td>\n      <td>NaN</td>\n      <td>...</td>\n      <td>100.0</td>\n      <td>NaN</td>\n      <td>NaN</td>\n      <td>NaN</td>\n      <td>NaN</td>\n      <td>NaN</td>\n      <td>NaN</td>\n      <td>NaN</td>\n      <td>NaN</td>\n      <td>NaN</td>\n    </tr>\n    <tr>\n      <th>...</th>\n      <td>...</td>\n      <td>...</td>\n      <td>...</td>\n      <td>...</td>\n      <td>...</td>\n      <td>...</td>\n      <td>...</td>\n      <td>...</td>\n      <td>...</td>\n      <td>...</td>\n      <td>...</td>\n      <td>...</td>\n      <td>...</td>\n      <td>...</td>\n      <td>...</td>\n      <td>...</td>\n      <td>...</td>\n      <td>...</td>\n      <td>...</td>\n      <td>...</td>\n      <td>...</td>\n    </tr>\n    <tr>\n      <th>v</th>\n      <td>NaN</td>\n      <td>NaN</td>\n      <td>NaN</td>\n      <td>NaN</td>\n      <td>NaN</td>\n      <td>NaN</td>\n      <td>NaN</td>\n      <td>NaN</td>\n      <td>NaN</td>\n      <td>NaN</td>\n      <td>...</td>\n      <td>NaN</td>\n      <td>NaN</td>\n      <td>NaN</td>\n      <td>NaN</td>\n      <td>NaN</td>\n      <td>NaN</td>\n      <td>NaN</td>\n      <td>NaN</td>\n      <td>NaN</td>\n      <td>NaN</td>\n    </tr>\n    <tr>\n      <th>~0.5%</th>\n      <td>NaN</td>\n      <td>NaN</td>\n      <td>NaN</td>\n      <td>NaN</td>\n      <td>NaN</td>\n      <td>NaN</td>\n      <td>NaN</td>\n      <td>NaN</td>\n      <td>NaN</td>\n      <td>NaN</td>\n      <td>...</td>\n      <td>NaN</td>\n      <td>NaN</td>\n      <td>NaN</td>\n      <td>NaN</td>\n      <td>NaN</td>\n      <td>NaN</td>\n      <td>NaN</td>\n      <td>NaN</td>\n      <td>NaN</td>\n      <td>NaN</td>\n    </tr>\n    <tr>\n      <th>~15%</th>\n      <td>NaN</td>\n      <td>NaN</td>\n      <td>NaN</td>\n      <td>NaN</td>\n      <td>NaN</td>\n      <td>NaN</td>\n      <td>NaN</td>\n      <td>NaN</td>\n      <td>NaN</td>\n      <td>NaN</td>\n      <td>...</td>\n      <td>NaN</td>\n      <td>NaN</td>\n      <td>NaN</td>\n      <td>NaN</td>\n      <td>NaN</td>\n      <td>NaN</td>\n      <td>NaN</td>\n      <td>NaN</td>\n      <td>NaN</td>\n      <td>NaN</td>\n    </tr>\n    <tr>\n      <th>~3%</th>\n      <td>NaN</td>\n      <td>NaN</td>\n      <td>NaN</td>\n      <td>NaN</td>\n      <td>NaN</td>\n      <td>NaN</td>\n      <td>NaN</td>\n      <td>NaN</td>\n      <td>NaN</td>\n      <td>NaN</td>\n      <td>...</td>\n      <td>NaN</td>\n      <td>NaN</td>\n      <td>NaN</td>\n      <td>NaN</td>\n      <td>NaN</td>\n      <td>NaN</td>\n      <td>NaN</td>\n      <td>NaN</td>\n      <td>NaN</td>\n      <td>NaN</td>\n    </tr>\n    <tr>\n      <th>~50%</th>\n      <td>NaN</td>\n      <td>NaN</td>\n      <td>NaN</td>\n      <td>NaN</td>\n      <td>NaN</td>\n      <td>NaN</td>\n      <td>NaN</td>\n      <td>NaN</td>\n      <td>NaN</td>\n      <td>NaN</td>\n      <td>...</td>\n      <td>NaN</td>\n      <td>NaN</td>\n      <td>NaN</td>\n      <td>NaN</td>\n      <td>NaN</td>\n      <td>NaN</td>\n      <td>NaN</td>\n      <td>NaN</td>\n      <td>NaN</td>\n      <td>NaN</td>\n    </tr>\n  </tbody>\n</table>\n<p>24533 rows × 85 columns</p>\n</div>"
     },
     "execution_count": 17,
     "metadata": {},
     "output_type": "execute_result"
    }
   ],
   "source": [
    "raw_maps.apply(pd.Series.value_counts)"
   ],
   "metadata": {
    "collapsed": false,
    "pycharm": {
     "name": "#%%\n"
    }
   }
  },
  {
   "cell_type": "markdown",
   "source": [
    "### Dictionary"
   ],
   "metadata": {
    "collapsed": false,
    "pycharm": {
     "name": "#%% md\n"
    }
   }
  },
  {
   "cell_type": "code",
   "execution_count": 18,
   "outputs": [
    {
     "data": {
      "text/plain": "    Variable Name Variable ALSPAC Name  \\\n0       agg_score                 f596   \n1       alon_week              ccs1006   \n2             NaN                  NaN   \n3                                        \n4                                        \n..            ...                  ...   \n208                                      \n209     work_wend              ccs1027   \n210                                      \n211           NaN                        \n212           NaN                        \n\n                                  Variable Description Variable Type  \\\n0                      Aggression score of partnership      Discrete   \n1    Average time child spent per day doing things ...       Ordinal   \n2                                                  NaN           NaN   \n3                                                  NaN           NaN   \n4                                                  NaN           NaN   \n..                                                 ...           ...   \n208                                                NaN           NaN   \n209  Average time child spent per day doing school ...       Ordinal   \n210                                                NaN           NaN   \n211                                                NaN           NaN   \n212                                                NaN           NaN   \n\n    Administered to Age of child at administration  \\\n0            Mother                  Aged 8 months   \n1             Child                Aged 198 months   \n2               NaN                            NaN   \n3               NaN                            NaN   \n4               NaN                            NaN   \n..              ...                            ...   \n208             NaN                            NaN   \n209           Child                Aged 198 months   \n210             NaN                            NaN   \n211             NaN                            NaN   \n212             NaN                            NaN   \n\n                                        ALSPAC Measure  ALSPAC Responses  \\\n0            Derived by ALSPAC. See Processing Details               NaN   \n1    \"How much time on average do you spend each da...        Not at all   \n2                                                  NaN  Less than 1 hour   \n3                                                  NaN         1-2 hours   \n4                                                  NaN   3 or more hours   \n..                                                 ...               ...   \n208                                                NaN   3 or more hours   \n209  How much time on average do you spend each day...        Not at all   \n210                                                NaN  Less than 1 hour   \n211                                                NaN         1-2 hours   \n212                                                NaN   3 or more hours   \n\n                                    Processing Details Reference Document  \n0    Aggression score was determined by three quest...                NaN  \n1    The category \"Not at all\" was collapsed into t...                NaN  \n2                                                  NaN                NaN  \n3                                                  NaN                NaN  \n4                                                  NaN                NaN  \n..                                                 ...                ...  \n208                                                NaN                NaN  \n209  The category \"Not at all\" was combined with th...                NaN  \n210                                                NaN                NaN  \n211                                                NaN                NaN  \n212                                                NaN                NaN  \n\n[213 rows x 10 columns]",
      "text/html": "<div>\n<style scoped>\n    .dataframe tbody tr th:only-of-type {\n        vertical-align: middle;\n    }\n\n    .dataframe tbody tr th {\n        vertical-align: top;\n    }\n\n    .dataframe thead th {\n        text-align: right;\n    }\n</style>\n<table border=\"1\" class=\"dataframe\">\n  <thead>\n    <tr style=\"text-align: right;\">\n      <th></th>\n      <th>Variable Name</th>\n      <th>Variable ALSPAC Name</th>\n      <th>Variable Description</th>\n      <th>Variable Type</th>\n      <th>Administered to</th>\n      <th>Age of child at administration</th>\n      <th>ALSPAC Measure</th>\n      <th>ALSPAC Responses</th>\n      <th>Processing Details</th>\n      <th>Reference Document</th>\n    </tr>\n  </thead>\n  <tbody>\n    <tr>\n      <th>0</th>\n      <td>agg_score</td>\n      <td>f596</td>\n      <td>Aggression score of partnership</td>\n      <td>Discrete</td>\n      <td>Mother</td>\n      <td>Aged 8 months</td>\n      <td>Derived by ALSPAC. See Processing Details</td>\n      <td>NaN</td>\n      <td>Aggression score was determined by three quest...</td>\n      <td>NaN</td>\n    </tr>\n    <tr>\n      <th>1</th>\n      <td>alon_week</td>\n      <td>ccs1006</td>\n      <td>Average time child spent per day doing things ...</td>\n      <td>Ordinal</td>\n      <td>Child</td>\n      <td>Aged 198 months</td>\n      <td>\"How much time on average do you spend each da...</td>\n      <td>Not at all</td>\n      <td>The category \"Not at all\" was collapsed into t...</td>\n      <td>NaN</td>\n    </tr>\n    <tr>\n      <th>2</th>\n      <td>NaN</td>\n      <td>NaN</td>\n      <td>NaN</td>\n      <td>NaN</td>\n      <td>NaN</td>\n      <td>NaN</td>\n      <td>NaN</td>\n      <td>Less than 1 hour</td>\n      <td>NaN</td>\n      <td>NaN</td>\n    </tr>\n    <tr>\n      <th>3</th>\n      <td></td>\n      <td></td>\n      <td>NaN</td>\n      <td>NaN</td>\n      <td>NaN</td>\n      <td>NaN</td>\n      <td>NaN</td>\n      <td>1-2 hours</td>\n      <td>NaN</td>\n      <td>NaN</td>\n    </tr>\n    <tr>\n      <th>4</th>\n      <td></td>\n      <td></td>\n      <td>NaN</td>\n      <td>NaN</td>\n      <td>NaN</td>\n      <td>NaN</td>\n      <td>NaN</td>\n      <td>3 or more hours</td>\n      <td>NaN</td>\n      <td>NaN</td>\n    </tr>\n    <tr>\n      <th>...</th>\n      <td>...</td>\n      <td>...</td>\n      <td>...</td>\n      <td>...</td>\n      <td>...</td>\n      <td>...</td>\n      <td>...</td>\n      <td>...</td>\n      <td>...</td>\n      <td>...</td>\n    </tr>\n    <tr>\n      <th>208</th>\n      <td></td>\n      <td></td>\n      <td>NaN</td>\n      <td>NaN</td>\n      <td>NaN</td>\n      <td>NaN</td>\n      <td>NaN</td>\n      <td>3 or more hours</td>\n      <td>NaN</td>\n      <td>NaN</td>\n    </tr>\n    <tr>\n      <th>209</th>\n      <td>work_wend</td>\n      <td>ccs1027</td>\n      <td>Average time child spent per day doing school ...</td>\n      <td>Ordinal</td>\n      <td>Child</td>\n      <td>Aged 198 months</td>\n      <td>How much time on average do you spend each day...</td>\n      <td>Not at all</td>\n      <td>The category \"Not at all\" was combined with th...</td>\n      <td>NaN</td>\n    </tr>\n    <tr>\n      <th>210</th>\n      <td></td>\n      <td></td>\n      <td>NaN</td>\n      <td>NaN</td>\n      <td>NaN</td>\n      <td>NaN</td>\n      <td>NaN</td>\n      <td>Less than 1 hour</td>\n      <td>NaN</td>\n      <td>NaN</td>\n    </tr>\n    <tr>\n      <th>211</th>\n      <td>NaN</td>\n      <td></td>\n      <td>NaN</td>\n      <td>NaN</td>\n      <td>NaN</td>\n      <td>NaN</td>\n      <td>NaN</td>\n      <td>1-2 hours</td>\n      <td>NaN</td>\n      <td>NaN</td>\n    </tr>\n    <tr>\n      <th>212</th>\n      <td>NaN</td>\n      <td></td>\n      <td>NaN</td>\n      <td>NaN</td>\n      <td>NaN</td>\n      <td>NaN</td>\n      <td>NaN</td>\n      <td>3 or more hours</td>\n      <td>NaN</td>\n      <td>NaN</td>\n    </tr>\n  </tbody>\n</table>\n<p>213 rows × 10 columns</p>\n</div>"
     },
     "execution_count": 18,
     "metadata": {},
     "output_type": "execute_result"
    }
   ],
   "source": [
    "raw_dictionary"
   ],
   "metadata": {
    "collapsed": false,
    "pycharm": {
     "name": "#%%\n"
    }
   }
  },
  {
   "cell_type": "code",
   "execution_count": 19,
   "outputs": [
    {
     "data": {
      "text/plain": "Index(['Variable Name', 'Variable ALSPAC Name', 'Variable Description',\n       'Variable Type', 'Administered to', 'Age of child at administration',\n       'ALSPAC Measure', 'ALSPAC Responses', 'Processing Details',\n       'Reference Document'],\n      dtype='object')"
     },
     "execution_count": 19,
     "metadata": {},
     "output_type": "execute_result"
    }
   ],
   "source": [
    "raw_dictionary.columns"
   ],
   "metadata": {
    "collapsed": false,
    "pycharm": {
     "name": "#%%\n"
    }
   }
  }
 ],
 "metadata": {
  "kernelspec": {
   "display_name": "Python 3",
   "language": "python",
   "name": "python3"
  },
  "language_info": {
   "codemirror_mode": {
    "name": "ipython",
    "version": 2
   },
   "file_extension": ".py",
   "mimetype": "text/x-python",
   "name": "python",
   "nbconvert_exporter": "python",
   "pygments_lexer": "ipython2",
   "version": "2.7.6"
  }
 },
 "nbformat": 4,
 "nbformat_minor": 0
}