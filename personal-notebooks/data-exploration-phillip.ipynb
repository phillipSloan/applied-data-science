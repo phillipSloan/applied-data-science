{
 "cells": [
  {
   "cell_type": "code",
   "execution_count": 8,
   "id": "59766e39-5dc5-4842-bfd2-65516eefb54c",
   "metadata": {},
   "outputs": [],
   "source": [
    "import pandas as pd\n",
    "import numpy as np\n",
    "import matplotlib.pyplot as plt\n",
    "import re"
   ]
  },
  {
   "cell_type": "code",
   "execution_count": 2,
   "outputs": [],
   "source": [
    "''' defining functions used later within the notebook '''\n",
    "\n",
    "def str_to_percent(word):\n",
    "    str_num = re.findall(\"\\d+\\.\\d+\", word)\n",
    "    if not str_num:\n",
    "        str_num = re.findall(\"\\d+\", word)\n",
    "    return float(str_num[0]) / 100\n",
    "\n",
    "def map_hours(df):\n",
    "    hour_map = {'Not at all': 0, 'Less than 1 hour': 1, '1-2 hours': 2, '3 or more hours': 3}\n",
    "    df = df.applymap(lambda x: hour_map.get(x) if x in hour_map else x)\n",
    "    return df"
   ],
   "metadata": {
    "collapsed": false,
    "pycharm": {
     "name": "#%%\n"
    }
   }
  },
  {
   "cell_type": "code",
   "execution_count": 3,
   "id": "a33929ce-d989-4522-88f0-dcabcebacb9f",
   "metadata": {},
   "outputs": [],
   "source": [
    "df = pd.read_csv(\"../data/maps-synthetic-data-v1.1.csv\")"
   ]
  },
  {
   "cell_type": "code",
   "execution_count": 15,
   "outputs": [],
   "source": [
    "df2 = df[['X', 'dep_band_15', 'dep_band_10', 'dep_band_13', 'dep_band_07', 'dep_score', 'comp_week', 'comp_wend', 'tv_week', 'tv_wend']].copy().dropna()"
   ],
   "metadata": {
    "collapsed": false,
    "pycharm": {
     "name": "#%%\n"
    }
   }
  },
  {
   "cell_type": "code",
   "execution_count": 16,
   "outputs": [],
   "source": [
    "# doesn't work\n",
    "# dep_bands = ['dep_band_15', 'dep_band_10', 'dep_band_13', 'dep_band_07']\n",
    "# df2[dep_bands] = df2[dep_bands].apply(str_to_percent)\n",
    "\n",
    "# Doing each column individually then\n",
    "df2['dep_band_15'] = df2['dep_band_15'].apply(str_to_percent)\n",
    "df2['dep_band_13'] = df2['dep_band_13'].apply(str_to_percent)\n",
    "df2['dep_band_10'] = df2['dep_band_10'].apply(str_to_percent)\n",
    "df2['dep_band_07'] = df2['dep_band_07'].apply(str_to_percent)"
   ],
   "metadata": {
    "collapsed": false,
    "pycharm": {
     "name": "#%%\n"
    }
   }
  },
  {
   "cell_type": "code",
   "execution_count": 17,
   "outputs": [
    {
     "data": {
      "text/plain": "           X  dep_band_15  dep_band_10  dep_band_13  dep_band_07  dep_score  \\\n0          1        0.005        0.005        0.005        0.005        0.0   \n5          6        0.005        0.001        0.150        0.001        0.0   \n8          9        0.150        0.001        0.001        0.001        0.0   \n33        34        0.150        0.001        0.001        0.005        2.0   \n35        36        0.005        0.150        0.005        0.001        0.0   \n...      ...          ...          ...          ...          ...        ...   \n13671  13672        0.005        0.700        0.150        0.005        0.0   \n13694  13695        0.001        0.001        0.001        0.001        0.0   \n13716  13717        0.005        0.005        0.005        0.005        0.0   \n13720  13721        0.005        0.150        0.001        0.005        0.0   \n13722  13723        0.001        0.001        0.001        0.001        0.0   \n\n       comp_week  comp_wend  tv_week  tv_wend  \n0              2          2        2        2  \n5              2          1        2        3  \n8              3          3        2        2  \n33             2          2        1        2  \n35             2          2        2        3  \n...          ...        ...      ...      ...  \n13671          3          3        3        3  \n13694          3          3        1        2  \n13716          3          3        2        3  \n13720          2          3        1        2  \n13722          0          0        2        0  \n\n[2019 rows x 10 columns]",
      "text/html": "<div>\n<style scoped>\n    .dataframe tbody tr th:only-of-type {\n        vertical-align: middle;\n    }\n\n    .dataframe tbody tr th {\n        vertical-align: top;\n    }\n\n    .dataframe thead th {\n        text-align: right;\n    }\n</style>\n<table border=\"1\" class=\"dataframe\">\n  <thead>\n    <tr style=\"text-align: right;\">\n      <th></th>\n      <th>X</th>\n      <th>dep_band_15</th>\n      <th>dep_band_10</th>\n      <th>dep_band_13</th>\n      <th>dep_band_07</th>\n      <th>dep_score</th>\n      <th>comp_week</th>\n      <th>comp_wend</th>\n      <th>tv_week</th>\n      <th>tv_wend</th>\n    </tr>\n  </thead>\n  <tbody>\n    <tr>\n      <th>0</th>\n      <td>1</td>\n      <td>0.005</td>\n      <td>0.005</td>\n      <td>0.005</td>\n      <td>0.005</td>\n      <td>0.0</td>\n      <td>2</td>\n      <td>2</td>\n      <td>2</td>\n      <td>2</td>\n    </tr>\n    <tr>\n      <th>5</th>\n      <td>6</td>\n      <td>0.005</td>\n      <td>0.001</td>\n      <td>0.150</td>\n      <td>0.001</td>\n      <td>0.0</td>\n      <td>2</td>\n      <td>1</td>\n      <td>2</td>\n      <td>3</td>\n    </tr>\n    <tr>\n      <th>8</th>\n      <td>9</td>\n      <td>0.150</td>\n      <td>0.001</td>\n      <td>0.001</td>\n      <td>0.001</td>\n      <td>0.0</td>\n      <td>3</td>\n      <td>3</td>\n      <td>2</td>\n      <td>2</td>\n    </tr>\n    <tr>\n      <th>33</th>\n      <td>34</td>\n      <td>0.150</td>\n      <td>0.001</td>\n      <td>0.001</td>\n      <td>0.005</td>\n      <td>2.0</td>\n      <td>2</td>\n      <td>2</td>\n      <td>1</td>\n      <td>2</td>\n    </tr>\n    <tr>\n      <th>35</th>\n      <td>36</td>\n      <td>0.005</td>\n      <td>0.150</td>\n      <td>0.005</td>\n      <td>0.001</td>\n      <td>0.0</td>\n      <td>2</td>\n      <td>2</td>\n      <td>2</td>\n      <td>3</td>\n    </tr>\n    <tr>\n      <th>...</th>\n      <td>...</td>\n      <td>...</td>\n      <td>...</td>\n      <td>...</td>\n      <td>...</td>\n      <td>...</td>\n      <td>...</td>\n      <td>...</td>\n      <td>...</td>\n      <td>...</td>\n    </tr>\n    <tr>\n      <th>13671</th>\n      <td>13672</td>\n      <td>0.005</td>\n      <td>0.700</td>\n      <td>0.150</td>\n      <td>0.005</td>\n      <td>0.0</td>\n      <td>3</td>\n      <td>3</td>\n      <td>3</td>\n      <td>3</td>\n    </tr>\n    <tr>\n      <th>13694</th>\n      <td>13695</td>\n      <td>0.001</td>\n      <td>0.001</td>\n      <td>0.001</td>\n      <td>0.001</td>\n      <td>0.0</td>\n      <td>3</td>\n      <td>3</td>\n      <td>1</td>\n      <td>2</td>\n    </tr>\n    <tr>\n      <th>13716</th>\n      <td>13717</td>\n      <td>0.005</td>\n      <td>0.005</td>\n      <td>0.005</td>\n      <td>0.005</td>\n      <td>0.0</td>\n      <td>3</td>\n      <td>3</td>\n      <td>2</td>\n      <td>3</td>\n    </tr>\n    <tr>\n      <th>13720</th>\n      <td>13721</td>\n      <td>0.005</td>\n      <td>0.150</td>\n      <td>0.001</td>\n      <td>0.005</td>\n      <td>0.0</td>\n      <td>2</td>\n      <td>3</td>\n      <td>1</td>\n      <td>2</td>\n    </tr>\n    <tr>\n      <th>13722</th>\n      <td>13723</td>\n      <td>0.001</td>\n      <td>0.001</td>\n      <td>0.001</td>\n      <td>0.001</td>\n      <td>0.0</td>\n      <td>0</td>\n      <td>0</td>\n      <td>2</td>\n      <td>0</td>\n    </tr>\n  </tbody>\n</table>\n<p>2019 rows × 10 columns</p>\n</div>"
     },
     "execution_count": 17,
     "metadata": {},
     "output_type": "execute_result"
    }
   ],
   "source": [
    "df2 = map_hours(df2)\n",
    "df2"
   ],
   "metadata": {
    "collapsed": false,
    "pycharm": {
     "name": "#%%\n"
    }
   }
  },
  {
   "cell_type": "code",
   "execution_count": 20,
   "outputs": [],
   "source": [
    "df2['screentime'] = df2[['comp_wend', 'comp_week', 'tv_week', 'tv_wend']].sum(axis=1)"
   ],
   "metadata": {
    "collapsed": false,
    "pycharm": {
     "name": "#%%\n"
    }
   }
  },
  {
   "cell_type": "code",
   "execution_count": 24,
   "outputs": [
    {
     "data": {
      "text/plain": "<function matplotlib.pyplot.show(close=None, block=None)>"
     },
     "execution_count": 24,
     "metadata": {},
     "output_type": "execute_result"
    },
    {
     "data": {
      "text/plain": "<Figure size 432x288 with 1 Axes>",
      "image/png": "[encoded data removed]"
     },
     "metadata": {
      "needs_background": "light"
     },
     "output_type": "display_data"
    }
   ],
   "source": [
    "x = df2['dep_score']\n",
    "y = df2['screentime']\n",
    "plt.scatter(x, y)\n",
    "plt.show"
   ],
   "metadata": {
    "collapsed": false,
    "pycharm": {
     "name": "#%%\n"
    }
   }
  },
  {
   "cell_type": "markdown",
   "source": [
    "[Look into removing columns that aren't useful / are duplicated?"
   ],
   "metadata": {
    "collapsed": false,
    "pycharm": {
     "name": "#%% md\n"
    }
   }
  },
  {
   "cell_type": "code",
   "execution_count": 9,
   "id": "b134f5b9-cb73-47e8-a738-0a8d26eefee7",
   "metadata": {},
   "outputs": [
    {
     "ename": "KeyError",
     "evalue": "'Unnamed: 0'",
     "output_type": "error",
     "traceback": [
      "\u001B[0;31m---------------------------------------------------------------------------\u001B[0m",
      "\u001B[0;31mKeyError\u001B[0m                                  Traceback (most recent call last)",
      "\u001B[0;32m~/opt/anaconda3/lib/python3.8/site-packages/pandas/core/indexes/base.py\u001B[0m in \u001B[0;36mget_loc\u001B[0;34m(self, key, method, tolerance)\u001B[0m\n\u001B[1;32m   3360\u001B[0m             \u001B[0;32mtry\u001B[0m\u001B[0;34m:\u001B[0m\u001B[0;34m\u001B[0m\u001B[0;34m\u001B[0m\u001B[0m\n\u001B[0;32m-> 3361\u001B[0;31m                 \u001B[0;32mreturn\u001B[0m \u001B[0mself\u001B[0m\u001B[0;34m.\u001B[0m\u001B[0m_engine\u001B[0m\u001B[0;34m.\u001B[0m\u001B[0mget_loc\u001B[0m\u001B[0;34m(\u001B[0m\u001B[0mcasted_key\u001B[0m\u001B[0;34m)\u001B[0m\u001B[0;34m\u001B[0m\u001B[0;34m\u001B[0m\u001B[0m\n\u001B[0m\u001B[1;32m   3362\u001B[0m             \u001B[0;32mexcept\u001B[0m \u001B[0mKeyError\u001B[0m \u001B[0;32mas\u001B[0m \u001B[0merr\u001B[0m\u001B[0;34m:\u001B[0m\u001B[0;34m\u001B[0m\u001B[0;34m\u001B[0m\u001B[0m\n",
      "\u001B[0;32m~/opt/anaconda3/lib/python3.8/site-packages/pandas/_libs/index.pyx\u001B[0m in \u001B[0;36mpandas._libs.index.IndexEngine.get_loc\u001B[0;34m()\u001B[0m\n",
      "\u001B[0;32m~/opt/anaconda3/lib/python3.8/site-packages/pandas/_libs/index.pyx\u001B[0m in \u001B[0;36mpandas._libs.index.IndexEngine.get_loc\u001B[0;34m()\u001B[0m\n",
      "\u001B[0;32mpandas/_libs/hashtable_class_helper.pxi\u001B[0m in \u001B[0;36mpandas._libs.hashtable.PyObjectHashTable.get_item\u001B[0;34m()\u001B[0m\n",
      "\u001B[0;32mpandas/_libs/hashtable_class_helper.pxi\u001B[0m in \u001B[0;36mpandas._libs.hashtable.PyObjectHashTable.get_item\u001B[0;34m()\u001B[0m\n",
      "\u001B[0;31mKeyError\u001B[0m: 'Unnamed: 0'",
      "\nThe above exception was the direct cause of the following exception:\n",
      "\u001B[0;31mKeyError\u001B[0m                                  Traceback (most recent call last)",
      "\u001B[0;32m/var/folders/x9/z8q_vccs0s9cd_6w43__ft0w0000gq/T/ipykernel_32495/2964973979.py\u001B[0m in \u001B[0;36m<module>\u001B[0;34m\u001B[0m\n\u001B[1;32m      1\u001B[0m \u001B[0;31m# Unnamed is the same as column X - flag is the same throughout the dataset\u001B[0m\u001B[0;34m\u001B[0m\u001B[0;34m\u001B[0m\u001B[0;34m\u001B[0m\u001B[0m\n\u001B[0;32m----> 2\u001B[0;31m \u001B[0;32mdel\u001B[0m \u001B[0mdf\u001B[0m\u001B[0;34m[\u001B[0m\u001B[0;34m'Unnamed: 0'\u001B[0m\u001B[0;34m]\u001B[0m\u001B[0;34m\u001B[0m\u001B[0;34m\u001B[0m\u001B[0m\n\u001B[0m\u001B[1;32m      3\u001B[0m \u001B[0;32mdel\u001B[0m \u001B[0mdf\u001B[0m\u001B[0;34m[\u001B[0m\u001B[0;34m'flag'\u001B[0m\u001B[0;34m]\u001B[0m\u001B[0;34m\u001B[0m\u001B[0;34m\u001B[0m\u001B[0m\n\u001B[1;32m      4\u001B[0m \u001B[0;31m# Do we need the column X?\u001B[0m\u001B[0;34m\u001B[0m\u001B[0;34m\u001B[0m\u001B[0;34m\u001B[0m\u001B[0m\n",
      "\u001B[0;32m~/opt/anaconda3/lib/python3.8/site-packages/pandas/core/generic.py\u001B[0m in \u001B[0;36m__delitem__\u001B[0;34m(self, key)\u001B[0m\n\u001B[1;32m   3961\u001B[0m             \u001B[0;31m# there was no match, this call should raise the appropriate\u001B[0m\u001B[0;34m\u001B[0m\u001B[0;34m\u001B[0m\u001B[0;34m\u001B[0m\u001B[0m\n\u001B[1;32m   3962\u001B[0m             \u001B[0;31m# exception:\u001B[0m\u001B[0;34m\u001B[0m\u001B[0;34m\u001B[0m\u001B[0;34m\u001B[0m\u001B[0m\n\u001B[0;32m-> 3963\u001B[0;31m             \u001B[0mloc\u001B[0m \u001B[0;34m=\u001B[0m \u001B[0mself\u001B[0m\u001B[0;34m.\u001B[0m\u001B[0maxes\u001B[0m\u001B[0;34m[\u001B[0m\u001B[0;34m-\u001B[0m\u001B[0;36m1\u001B[0m\u001B[0;34m]\u001B[0m\u001B[0;34m.\u001B[0m\u001B[0mget_loc\u001B[0m\u001B[0;34m(\u001B[0m\u001B[0mkey\u001B[0m\u001B[0;34m)\u001B[0m\u001B[0;34m\u001B[0m\u001B[0;34m\u001B[0m\u001B[0m\n\u001B[0m\u001B[1;32m   3964\u001B[0m             \u001B[0mself\u001B[0m\u001B[0;34m.\u001B[0m\u001B[0m_mgr\u001B[0m \u001B[0;34m=\u001B[0m \u001B[0mself\u001B[0m\u001B[0;34m.\u001B[0m\u001B[0m_mgr\u001B[0m\u001B[0;34m.\u001B[0m\u001B[0midelete\u001B[0m\u001B[0;34m(\u001B[0m\u001B[0mloc\u001B[0m\u001B[0;34m)\u001B[0m\u001B[0;34m\u001B[0m\u001B[0;34m\u001B[0m\u001B[0m\n\u001B[1;32m   3965\u001B[0m \u001B[0;34m\u001B[0m\u001B[0m\n",
      "\u001B[0;32m~/opt/anaconda3/lib/python3.8/site-packages/pandas/core/indexes/base.py\u001B[0m in \u001B[0;36mget_loc\u001B[0;34m(self, key, method, tolerance)\u001B[0m\n\u001B[1;32m   3361\u001B[0m                 \u001B[0;32mreturn\u001B[0m \u001B[0mself\u001B[0m\u001B[0;34m.\u001B[0m\u001B[0m_engine\u001B[0m\u001B[0;34m.\u001B[0m\u001B[0mget_loc\u001B[0m\u001B[0;34m(\u001B[0m\u001B[0mcasted_key\u001B[0m\u001B[0;34m)\u001B[0m\u001B[0;34m\u001B[0m\u001B[0;34m\u001B[0m\u001B[0m\n\u001B[1;32m   3362\u001B[0m             \u001B[0;32mexcept\u001B[0m \u001B[0mKeyError\u001B[0m \u001B[0;32mas\u001B[0m \u001B[0merr\u001B[0m\u001B[0;34m:\u001B[0m\u001B[0;34m\u001B[0m\u001B[0;34m\u001B[0m\u001B[0m\n\u001B[0;32m-> 3363\u001B[0;31m                 \u001B[0;32mraise\u001B[0m \u001B[0mKeyError\u001B[0m\u001B[0;34m(\u001B[0m\u001B[0mkey\u001B[0m\u001B[0;34m)\u001B[0m \u001B[0;32mfrom\u001B[0m \u001B[0merr\u001B[0m\u001B[0;34m\u001B[0m\u001B[0;34m\u001B[0m\u001B[0m\n\u001B[0m\u001B[1;32m   3364\u001B[0m \u001B[0;34m\u001B[0m\u001B[0m\n\u001B[1;32m   3365\u001B[0m         \u001B[0;32mif\u001B[0m \u001B[0mis_scalar\u001B[0m\u001B[0;34m(\u001B[0m\u001B[0mkey\u001B[0m\u001B[0;34m)\u001B[0m \u001B[0;32mand\u001B[0m \u001B[0misna\u001B[0m\u001B[0;34m(\u001B[0m\u001B[0mkey\u001B[0m\u001B[0;34m)\u001B[0m \u001B[0;32mand\u001B[0m \u001B[0;32mnot\u001B[0m \u001B[0mself\u001B[0m\u001B[0;34m.\u001B[0m\u001B[0mhasnans\u001B[0m\u001B[0;34m:\u001B[0m\u001B[0;34m\u001B[0m\u001B[0;34m\u001B[0m\u001B[0m\n",
      "\u001B[0;31mKeyError\u001B[0m: 'Unnamed: 0'"
     ]
    }
   ],
   "source": [
    "# Unnamed is the same as column X - flag is the same throughout the dataset\n",
    "del df['Unnamed: 0']\n",
    "del df['flag']\n",
    "# Do we need the column X?\n"
   ]
  },
  {
   "cell_type": "markdown",
   "source": [
    "How do we want to deal with NAN values? Looking into just filling them with 0/False"
   ],
   "metadata": {
    "collapsed": false,
    "pycharm": {
     "name": "#%% md\n"
    }
   }
  },
  {
   "cell_type": "code",
   "execution_count": 5,
   "id": "78d6747b-4316-41b9-851f-a04b44b369f3",
   "metadata": {},
   "outputs": [],
   "source": [
    "df = df.fillna(0)"
   ]
  },
  {
   "cell_type": "markdown",
   "source": [
    "Lot of string values within columns, looking into mapping them to integer values which can be better dealt with"
   ],
   "metadata": {
    "collapsed": false,
    "pycharm": {
     "name": "#%% md\n"
    }
   }
  },
  {
   "cell_type": "code",
   "execution_count": 6,
   "outputs": [],
   "source": [
    "map_list = []\n",
    "\n",
    "# create a bunch of dictionaries to map value too\n",
    "'''\n",
    "    Need to discuss these bindings, some columns use similar but use different generalisations\n",
    "    Some use '1 or more hours' and some use 'Less than 3 hours'\n",
    "    Do we want to label these differently?\n",
    "'''\n",
    "hours_map = {'Not at all': 0, 'Less than 1 hour': 0, '1-2 hours': 0,\n",
    "            '3 or more hours': 1, '1 or more hours': 1, 'Less than 3 hours': 0}\n",
    "\n",
    "purchase_map = {'In her/his room': 1, 'Have in house': 2, 'Bought in last 6 months': 3, 'Intend to buy': 4}\n",
    "occurance_map = {'Not at all': 0, 'Sometimes': 1, 'Often': 2, 'Always': 3, 'sometimes': 1, 'often': 2}\n",
    "television_map = {'Don\\'t have a T.V.': 0, 'No hardly ever': 1,\n",
    "                  'Yes Some Days': 1, 'Yes Every Days': 1, 'Any at all': 1}\n",
    "\n",
    "yes_no_map = {'No': 0, 'Yes': 1}\n",
    "sex_map = {'Male': 0, 'Female': 1}\n",
    "# 0 = first born, 1 = other birth\n",
    "birth_map = {'A': 0, 'B': 1}\n",
    "\n",
    "# add all the maps to the same list to iterate over\n",
    "map_list.extend([hours_map, yes_no_map, purchase_map, occurance_map, television_map, sex_map, birth_map])"
   ],
   "metadata": {
    "collapsed": false,
    "pycharm": {
     "name": "#%%\n"
    }
   }
  },
  {
   "cell_type": "code",
   "execution_count": 7,
   "outputs": [],
   "source": [
    "for mapping in map_list:\n",
    "    df = df.applymap(lambda x: mapping.get(x) if x in mapping else x)"
   ],
   "metadata": {
    "collapsed": false,
    "pycharm": {
     "name": "#%%\n"
    }
   }
  },
  {
   "cell_type": "code",
   "execution_count": 21,
   "outputs": [
    {
     "data": {
      "text/plain": "           X  comp_bed_9  mat_dep mat_age  weight_16   height_16     iq  \\\n0          1           0      3.0      30  59.294132  181.602831  107.0   \n1          2           0      9.0      26   0.000000    0.000000   85.0   \n2          3           0      3.0      24   0.000000    0.000000    0.0   \n3          4           0      0.0      22  49.812426  160.224186    0.0   \n4          5           0      8.0      31  62.270030  191.703227  132.0   \n...      ...         ...      ...     ...        ...         ...    ...   \n13729  13730           0     13.0      27   0.000000    0.000000    0.0   \n13730  13731           0      6.0      29   0.000000    0.000000    0.0   \n13731  13732           0     21.0      37  58.075832  169.235565  108.0   \n13732  13733           0     10.0      30   0.000000    0.000000  103.0   \n13733  13734           0      6.0      26  70.732913  176.873882  102.0   \n\n       comp_noint_bed_16  comp_int_bed_16  talk_phon_wend  ...  dep_score  \\\n0                      0                0               1  ...        0.0   \n1                      0                0               0  ...        0.0   \n2                      0                0               0  ...        0.0   \n3                      0                0               0  ...        0.0   \n4                      1                0               0  ...        0.0   \n...                  ...              ...             ...  ...        ...   \n13729                  0                0               0  ...        0.0   \n13730                  0                0               0  ...        0.0   \n13731                  0                0               1  ...        0.0   \n13732                  0                0               1  ...        0.0   \n13733                  0                0               0  ...        0.0   \n\n       comp_house  tv_bed_16  creat_14  comp_games      fam_tv_eve  \\\n0               1          1         2           0  Yes, Some Days   \n1               0          0         0           0               0   \n2               0          0         0           0  Yes, Some Days   \n3               0          0         0           0               0   \n4               0          0         2           0  Yes, Some Days   \n...           ...        ...       ...         ...             ...   \n13729           0          0         0           0  Yes, Every Day   \n13730           0          0         0           0  Yes, Every Day   \n13731           0          0         2           0           Other   \n13732           1          0         1           0  Yes, Some Days   \n13733           0          0         1           0  Yes, Some Days   \n\n           fam_tv_aft      fam_tv_mor  sex  birth_order  \n0               Other  Yes, Every Day    1            0  \n1                   0               0    1            1  \n2      Yes, Every Day           Other    0            0  \n3                   0               0    0            0  \n4      Yes, Every Day  Yes, Every Day    1            0  \n...               ...             ...  ...          ...  \n13729  Yes, Every Day  Yes, Every Day    1            0  \n13730           Other           Other    0            0  \n13731           Other           Other    0            0  \n13732           Other  Yes, Every Day    0            0  \n13733           Other  Yes, Every Day    0            0  \n\n[13734 rows x 83 columns]",
      "text/html": "<div>\n<style scoped>\n    .dataframe tbody tr th:only-of-type {\n        vertical-align: middle;\n    }\n\n    .dataframe tbody tr th {\n        vertical-align: top;\n    }\n\n    .dataframe thead th {\n        text-align: right;\n    }\n</style>\n<table border=\"1\" class=\"dataframe\">\n  <thead>\n    <tr style=\"text-align: right;\">\n      <th></th>\n      <th>X</th>\n      <th>comp_bed_9</th>\n      <th>mat_dep</th>\n      <th>mat_age</th>\n      <th>weight_16</th>\n      <th>height_16</th>\n      <th>iq</th>\n      <th>comp_noint_bed_16</th>\n      <th>comp_int_bed_16</th>\n      <th>talk_phon_wend</th>\n      <th>...</th>\n      <th>dep_score</th>\n      <th>comp_house</th>\n      <th>tv_bed_16</th>\n      <th>creat_14</th>\n      <th>comp_games</th>\n      <th>fam_tv_eve</th>\n      <th>fam_tv_aft</th>\n      <th>fam_tv_mor</th>\n      <th>sex</th>\n      <th>birth_order</th>\n    </tr>\n  </thead>\n  <tbody>\n    <tr>\n      <th>0</th>\n      <td>1</td>\n      <td>0</td>\n      <td>3.0</td>\n      <td>30</td>\n      <td>59.294132</td>\n      <td>181.602831</td>\n      <td>107.0</td>\n      <td>0</td>\n      <td>0</td>\n      <td>1</td>\n      <td>...</td>\n      <td>0.0</td>\n      <td>1</td>\n      <td>1</td>\n      <td>2</td>\n      <td>0</td>\n      <td>Yes, Some Days</td>\n      <td>Other</td>\n      <td>Yes, Every Day</td>\n      <td>1</td>\n      <td>0</td>\n    </tr>\n    <tr>\n      <th>1</th>\n      <td>2</td>\n      <td>0</td>\n      <td>9.0</td>\n      <td>26</td>\n      <td>0.000000</td>\n      <td>0.000000</td>\n      <td>85.0</td>\n      <td>0</td>\n      <td>0</td>\n      <td>0</td>\n      <td>...</td>\n      <td>0.0</td>\n      <td>0</td>\n      <td>0</td>\n      <td>0</td>\n      <td>0</td>\n      <td>0</td>\n      <td>0</td>\n      <td>0</td>\n      <td>1</td>\n      <td>1</td>\n    </tr>\n    <tr>\n      <th>2</th>\n      <td>3</td>\n      <td>0</td>\n      <td>3.0</td>\n      <td>24</td>\n      <td>0.000000</td>\n      <td>0.000000</td>\n      <td>0.0</td>\n      <td>0</td>\n      <td>0</td>\n      <td>0</td>\n      <td>...</td>\n      <td>0.0</td>\n      <td>0</td>\n      <td>0</td>\n      <td>0</td>\n      <td>0</td>\n      <td>Yes, Some Days</td>\n      <td>Yes, Every Day</td>\n      <td>Other</td>\n      <td>0</td>\n      <td>0</td>\n    </tr>\n    <tr>\n      <th>3</th>\n      <td>4</td>\n      <td>0</td>\n      <td>0.0</td>\n      <td>22</td>\n      <td>49.812426</td>\n      <td>160.224186</td>\n      <td>0.0</td>\n      <td>0</td>\n      <td>0</td>\n      <td>0</td>\n      <td>...</td>\n      <td>0.0</td>\n      <td>0</td>\n      <td>0</td>\n      <td>0</td>\n      <td>0</td>\n      <td>0</td>\n      <td>0</td>\n      <td>0</td>\n      <td>0</td>\n      <td>0</td>\n    </tr>\n    <tr>\n      <th>4</th>\n      <td>5</td>\n      <td>0</td>\n      <td>8.0</td>\n      <td>31</td>\n      <td>62.270030</td>\n      <td>191.703227</td>\n      <td>132.0</td>\n      <td>1</td>\n      <td>0</td>\n      <td>0</td>\n      <td>...</td>\n      <td>0.0</td>\n      <td>0</td>\n      <td>0</td>\n      <td>2</td>\n      <td>0</td>\n      <td>Yes, Some Days</td>\n      <td>Yes, Every Day</td>\n      <td>Yes, Every Day</td>\n      <td>1</td>\n      <td>0</td>\n    </tr>\n    <tr>\n      <th>...</th>\n      <td>...</td>\n      <td>...</td>\n      <td>...</td>\n      <td>...</td>\n      <td>...</td>\n      <td>...</td>\n      <td>...</td>\n      <td>...</td>\n      <td>...</td>\n      <td>...</td>\n      <td>...</td>\n      <td>...</td>\n      <td>...</td>\n      <td>...</td>\n      <td>...</td>\n      <td>...</td>\n      <td>...</td>\n      <td>...</td>\n      <td>...</td>\n      <td>...</td>\n      <td>...</td>\n    </tr>\n    <tr>\n      <th>13729</th>\n      <td>13730</td>\n      <td>0</td>\n      <td>13.0</td>\n      <td>27</td>\n      <td>0.000000</td>\n      <td>0.000000</td>\n      <td>0.0</td>\n      <td>0</td>\n      <td>0</td>\n      <td>0</td>\n      <td>...</td>\n      <td>0.0</td>\n      <td>0</td>\n      <td>0</td>\n      <td>0</td>\n      <td>0</td>\n      <td>Yes, Every Day</td>\n      <td>Yes, Every Day</td>\n      <td>Yes, Every Day</td>\n      <td>1</td>\n      <td>0</td>\n    </tr>\n    <tr>\n      <th>13730</th>\n      <td>13731</td>\n      <td>0</td>\n      <td>6.0</td>\n      <td>29</td>\n      <td>0.000000</td>\n      <td>0.000000</td>\n      <td>0.0</td>\n      <td>0</td>\n      <td>0</td>\n      <td>0</td>\n      <td>...</td>\n      <td>0.0</td>\n      <td>0</td>\n      <td>0</td>\n      <td>0</td>\n      <td>0</td>\n      <td>Yes, Every Day</td>\n      <td>Other</td>\n      <td>Other</td>\n      <td>0</td>\n      <td>0</td>\n    </tr>\n    <tr>\n      <th>13731</th>\n      <td>13732</td>\n      <td>0</td>\n      <td>21.0</td>\n      <td>37</td>\n      <td>58.075832</td>\n      <td>169.235565</td>\n      <td>108.0</td>\n      <td>0</td>\n      <td>0</td>\n      <td>1</td>\n      <td>...</td>\n      <td>0.0</td>\n      <td>0</td>\n      <td>0</td>\n      <td>2</td>\n      <td>0</td>\n      <td>Other</td>\n      <td>Other</td>\n      <td>Other</td>\n      <td>0</td>\n      <td>0</td>\n    </tr>\n    <tr>\n      <th>13732</th>\n      <td>13733</td>\n      <td>0</td>\n      <td>10.0</td>\n      <td>30</td>\n      <td>0.000000</td>\n      <td>0.000000</td>\n      <td>103.0</td>\n      <td>0</td>\n      <td>0</td>\n      <td>1</td>\n      <td>...</td>\n      <td>0.0</td>\n      <td>1</td>\n      <td>0</td>\n      <td>1</td>\n      <td>0</td>\n      <td>Yes, Some Days</td>\n      <td>Other</td>\n      <td>Yes, Every Day</td>\n      <td>0</td>\n      <td>0</td>\n    </tr>\n    <tr>\n      <th>13733</th>\n      <td>13734</td>\n      <td>0</td>\n      <td>6.0</td>\n      <td>26</td>\n      <td>70.732913</td>\n      <td>176.873882</td>\n      <td>102.0</td>\n      <td>0</td>\n      <td>0</td>\n      <td>0</td>\n      <td>...</td>\n      <td>0.0</td>\n      <td>0</td>\n      <td>0</td>\n      <td>1</td>\n      <td>0</td>\n      <td>Yes, Some Days</td>\n      <td>Other</td>\n      <td>Yes, Every Day</td>\n      <td>0</td>\n      <td>0</td>\n    </tr>\n  </tbody>\n</table>\n<p>13734 rows × 83 columns</p>\n</div>"
     },
     "execution_count": 21,
     "metadata": {},
     "output_type": "execute_result"
    }
   ],
   "source": [
    "df"
   ],
   "metadata": {
    "collapsed": false,
    "pycharm": {
     "name": "#%%\n"
    }
   }
  },
  {
   "cell_type": "code",
   "execution_count": 24,
   "outputs": [
    {
     "data": {
      "text/plain": "'~0.5%'"
     },
     "execution_count": 24,
     "metadata": {},
     "output_type": "execute_result"
    }
   ],
   "source": [
    "df.iloc[0]['dep_band_07']"
   ],
   "metadata": {
    "collapsed": false,
    "pycharm": {
     "name": "#%%\n"
    }
   }
  },
  {
   "cell_type": "code",
   "execution_count": 30,
   "outputs": [
    {
     "data": {
      "text/plain": "<Figure size 432x288 with 1 Axes>",
      "image/png": "[encoded data removed]"
     },
     "metadata": {
      "needs_background": "light"
     },
     "output_type": "display_data"
    }
   ],
   "source": [
    "x = df['iq'].to_numpy()\n",
    "y = df['X'].to_numpy()\n",
    "plt.scatter(x,y)\n",
    "plt.show()"
   ],
   "metadata": {
    "collapsed": false,
    "pycharm": {
     "name": "#%%\n"
    }
   }
  },
  {
   "cell_type": "code",
   "execution_count": 15,
   "outputs": [],
   "source": [
    "\n"
   ],
   "metadata": {
    "collapsed": false,
    "pycharm": {
     "name": "#%%\n"
    }
   }
  },
  {
   "cell_type": "code",
   "execution_count": null,
   "outputs": [],
   "source": [],
   "metadata": {
    "collapsed": false,
    "pycharm": {
     "name": "#%%\n"
    }
   }
  }
 ],
 "metadata": {
  "kernelspec": {
   "display_name": "Python 3 (ipykernel)",
   "language": "python",
   "name": "python3"
  },
  "language_info": {
   "codemirror_mode": {
    "name": "ipython",
    "version": 3
   },
   "file_extension": ".py",
   "mimetype": "text/x-python",
   "name": "python",
   "nbconvert_exporter": "python",
   "pygments_lexer": "ipython3",
   "version": "3.8.12"
  }
 },
 "nbformat": 4,
 "nbformat_minor": 5
}